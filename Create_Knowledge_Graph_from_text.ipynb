{
 "cells": [
  {
   "cell_type": "code",
   "execution_count": 1,
   "id": "e2fd95e2-b5b4-4b7e-8dc8-ee6c2fe71d4c",
   "metadata": {},
   "outputs": [],
   "source": [
    "import os\n",
    "from langchain_experimental.graph_transformers import LLMGraphTransformer\n",
    "from langchain_core.documents import Document\n",
    "import random"
   ]
  },
  {
   "cell_type": "code",
   "execution_count": 2,
   "id": "20b68e40-6191-4f49-ab6f-f8ce59b03a1b",
   "metadata": {},
   "outputs": [],
   "source": [
    "from langchain_community.llms import Ollama\n",
    "llm=Ollama(model=\"llama3\")"
   ]
  },
  {
   "cell_type": "code",
   "execution_count": 3,
   "id": "693fb901-9b15-4997-91e3-7ec3de824f10",
   "metadata": {},
   "outputs": [],
   "source": [
    "transformer=LLMGraphTransformer(llm=llm)"
   ]
  },
  {
   "cell_type": "code",
   "execution_count": 4,
   "id": "20599f7b-3ff5-47eb-aa57-5a083834c61c",
   "metadata": {},
   "outputs": [],
   "source": [
    "# Replace these with your Neo4j credentials and URI\n",
    "NEO4J_URI = \"YOUR_URI\"\n",
    "NEO4J_USER = \"neo4j\"\n",
    "NEO4J_PASSWORD = \"YOUR_PASSWORD\"\n"
   ]
  },
  {
   "cell_type": "code",
   "execution_count": 5,
   "id": "4f5bc261-34cc-4a94-be3a-991ca8909953",
   "metadata": {},
   "outputs": [],
   "source": [
    "from neo4j import GraphDatabase\n",
    "\n",
    "class Neo4jConnection:\n",
    "    def __init__(self, uri, user, password):\n",
    "        self._driver = GraphDatabase.driver(uri, auth=(user, password))\n",
    "\n",
    "    def close(self):\n",
    "        self._driver.close()\n",
    "\n",
    "    def query(self, query, parameters=None):\n",
    "        with self._driver.session() as session:\n",
    "            result = session.run(query, parameters)\n",
    "            return list(result)  # Fetch all records and return as a list\n",
    "        \n",
    "    def create_node(self, label, properties):\n",
    "        labels_str = \":\".join(label)\n",
    "        query = f\"CREATE (n:{labels_str} $properties)\"\n",
    "        return self.query(query, parameters={\"properties\": properties})\n",
    "    \n",
    "    def create_relationship(self, start_node_id, end_node_id, rel_type, properties=None):\n",
    "        query = (\n",
    "            \"MATCH (start), (end) \"\n",
    "            \"WHERE start.id = $start_node_id AND end.id = $end_node_id \"\n",
    "            f\"CREATE (start)-[r:{rel_type} $properties]->(end)\"\n",
    "        )\n",
    "        parameters = {\n",
    "            \"start_node_id\": start_node_id,\n",
    "            \"end_node_id\": end_node_id,\n",
    "            \"properties\": properties or {}\n",
    "        }\n",
    "        return self.query(query, parameters)"
   ]
  },
  {
   "cell_type": "code",
   "execution_count": 6,
   "id": "334c8922",
   "metadata": {},
   "outputs": [],
   "source": [
    "class Neo4jGraph:\n",
    "    def __init__(self, connection):\n",
    "        self.connection = connection\n",
    "    \n",
    "    def add_graph_documents(self, graph_documents, base_entity_label=True, include_source=True):\n",
    "        for graph_document in graph_documents:\n",
    "            # Process nodes\n",
    "            for node in graph_document.nodes:\n",
    "                labels = [node.type]\n",
    "                if base_entity_label:\n",
    "                    labels.append(\"BaseEntity\")\n",
    "                properties = {\"id\": node.id}\n",
    "                self.connection.create_node(labels, properties)\n",
    "            \n",
    "            # Process relationships\n",
    "            for relationship in graph_document.relationships:\n",
    "                properties = {}  # Add properties if needed\n",
    "                self.connection.create_relationship(relationship.source.id, relationship.target.id, relationship.type, properties)\n"
   ]
  },
  {
   "cell_type": "code",
   "execution_count": 7,
   "id": "44ae5a80-8d5a-414a-9bbb-95942f7097e8",
   "metadata": {},
   "outputs": [],
   "source": [
    "conn = Neo4jConnection(NEO4J_URI, NEO4J_USER, NEO4J_PASSWORD)\n",
    "graph = Neo4jGraph(conn)\n"
   ]
  },
  {
   "cell_type": "code",
   "execution_count": 8,
   "id": "49b27af3",
   "metadata": {},
   "outputs": [
    {
     "name": "stdout",
     "output_type": "stream",
     "text": [
      "Nodes: [Node(id='Durgacharan Datta', type='Person'), Node(id='Narendranath Datta', type='Person'), Node(id='Bhubaneswari Devi', type='Person'), Node(id=\"Vivekananda's mother\", type='Person'), Node(id='Shiva', type='Deity'), Node(id='Vivekananda', type='Person'), Node(id='Vishwanath Datta', type='Person')]\n",
      "Relationships: [Relationship(source=Node(id='Vivekananda', type='Person'), target=Node(id='Narendranath Datta', type='Person'), type='BORN_AS'), Relationship(source=Node(id='Vivekananda', type='Person'), target=Node(id='Vishwanath Datta', type='Person'), type='CHILD_OF'), Relationship(source=Node(id='Vivekananda', type='Person'), target=Node(id='Bhubaneswari Devi', type='Person'), type='CHILD_OF'), Relationship(source=Node(id='Narendranath Datta', type='Person'), target=Node(id='Vivekananda', type='Person'), type='FATHER_OF'), Relationship(source=Node(id='Durgacharan Datta', type='Person'), target=Node(id='Narendranath Datta', type='Person'), type='FATHER_OF'), Relationship(source=Node(id='Shiva', type='Deity'), target=Node(id=\"Vivekananda's mother\", type='Person'), type='PRAYED_TO')]\n"
     ]
    }
   ],
   "source": [
    "\n",
    "# Example text\n",
    "text = \"\"\"\n",
    "Vivekananda was born as Narendranath Datta (name shortened to Narendra or Naren)in a Bengali Kayastha family in his ancestral home at 3 Gourmohan Mukherjee Street in Calcutta, the capital of British India, on 12 January 1863 during the Makar Sankranti festival. He belonged to a traditional family and was one of nine siblings.His father, Vishwanath Datta, was an attorney at the Calcutta High Court. Durgacharan Datta, Narendra's grandfather was a Sanskrit and Persian scholar who left his family and became a monk at age twenty-five. His mother, Bhubaneswari Devi, was a devout housewife.The progressive, rational attitude of Narendra's father and the religious temperament of his mother helped shape his thinking and personality. Narendranath was interested in spirituality from a young age and used to meditate before the images of deities such as Shiva, Rama, Sita, and Mahavir Hanuman.He was fascinated by wandering ascetics and monks. Narendra was mischievous and restless as a child, and his parents often had difficulty controlling him. His mother said, \"I prayed to Shiva for a son and he has sent me one of his demons\".\n",
    "\n",
    "\"\"\"\n",
    "\n",
    "\n",
    "# Create a document from the text\n",
    "document = Document(page_content=text)\n",
    "\n",
    "# Convert document to graph documents\n",
    "graph_documents = transformer.convert_to_graph_documents([document])\n",
    "\n",
    "# Extract nodes and relationships from the graph documents\n",
    "nodes = graph_documents[0].nodes\n",
    "relationships = graph_documents[0].relationships\n",
    "\n",
    "\n",
    "# Print nodes and relationships\n",
    "print(f\"Nodes: {nodes}\")\n",
    "print(f\"Relationships: {relationships}\")"
   ]
  },
  {
   "cell_type": "code",
   "execution_count": 9,
   "id": "5081dd53",
   "metadata": {},
   "outputs": [
    {
     "data": {
      "text/plain": [
       "[GraphDocument(nodes=[Node(id='Durgacharan Datta', type='Person'), Node(id='Narendranath Datta', type='Person'), Node(id='Bhubaneswari Devi', type='Person'), Node(id=\"Vivekananda's mother\", type='Person'), Node(id='Shiva', type='Deity'), Node(id='Vivekananda', type='Person'), Node(id='Vishwanath Datta', type='Person')], relationships=[Relationship(source=Node(id='Vivekananda', type='Person'), target=Node(id='Narendranath Datta', type='Person'), type='BORN_AS'), Relationship(source=Node(id='Vivekananda', type='Person'), target=Node(id='Vishwanath Datta', type='Person'), type='CHILD_OF'), Relationship(source=Node(id='Vivekananda', type='Person'), target=Node(id='Bhubaneswari Devi', type='Person'), type='CHILD_OF'), Relationship(source=Node(id='Narendranath Datta', type='Person'), target=Node(id='Vivekananda', type='Person'), type='FATHER_OF'), Relationship(source=Node(id='Durgacharan Datta', type='Person'), target=Node(id='Narendranath Datta', type='Person'), type='FATHER_OF'), Relationship(source=Node(id='Shiva', type='Deity'), target=Node(id=\"Vivekananda's mother\", type='Person'), type='PRAYED_TO')], source=Document(page_content='\\nVivekananda was born as Narendranath Datta (name shortened to Narendra or Naren)in a Bengali Kayastha family in his ancestral home at 3 Gourmohan Mukherjee Street in Calcutta, the capital of British India, on 12 January 1863 during the Makar Sankranti festival. He belonged to a traditional family and was one of nine siblings.His father, Vishwanath Datta, was an attorney at the Calcutta High Court. Durgacharan Datta, Narendra\\'s grandfather was a Sanskrit and Persian scholar who left his family and became a monk at age twenty-five. His mother, Bhubaneswari Devi, was a devout housewife.The progressive, rational attitude of Narendra\\'s father and the religious temperament of his mother helped shape his thinking and personality. Narendranath was interested in spirituality from a young age and used to meditate before the images of deities such as Shiva, Rama, Sita, and Mahavir Hanuman.He was fascinated by wandering ascetics and monks. Narendra was mischievous and restless as a child, and his parents often had difficulty controlling him. His mother said, \"I prayed to Shiva for a son and he has sent me one of his demons\".\\n\\n'))]"
      ]
     },
     "execution_count": 9,
     "metadata": {},
     "output_type": "execute_result"
    }
   ],
   "source": [
    "graph_documents"
   ]
  },
  {
   "cell_type": "code",
   "execution_count": 10,
   "id": "85d68044",
   "metadata": {},
   "outputs": [
    {
     "name": "stdout",
     "output_type": "stream",
     "text": [
      "Nodes and relationships added successfully to Neo4j using Neo4jGraph.\n"
     ]
    }
   ],
   "source": [
    "# Add graph documents to Neo4j\n",
    "graph.add_graph_documents(graph_documents)\n",
    "\n",
    "# Close connection\n",
    "conn.close()\n",
    "\n",
    "print(\"Nodes and relationships added successfully to Neo4j using Neo4jGraph.\")"
   ]
  }
 ],
 "metadata": {
  "kernelspec": {
   "display_name": "Python 3 (ipykernel)",
   "language": "python",
   "name": "python3"
  },
  "language_info": {
   "codemirror_mode": {
    "name": "ipython",
    "version": 3
   },
   "file_extension": ".py",
   "mimetype": "text/x-python",
   "name": "python",
   "nbconvert_exporter": "python",
   "pygments_lexer": "ipython3",
   "version": "3.10.12"
  }
 },
 "nbformat": 4,
 "nbformat_minor": 5
}
